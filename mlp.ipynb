{
 "cells": [
  {
   "cell_type": "markdown",
   "metadata": {},
   "source": [
    "# Introduction\n",
    "\n",
    "The objective of this lab is to dive into particular kind of neural network: the *Multi-Layer Perceptron* (MLP).\n",
    "\n",
    "To start, let us take the dataset from the previous lab (hydrodynamics of sailing boats) and use scikit-learn to train a MLP instead of our hand-made single perceptron.\n",
    "The code below is already complete and is meant to give you an idea of how to construct an MLP with scikit-learn. You can execute it, taking the time to understand the idea behind each cell."
   ]
  },
  {
   "cell_type": "code",
   "execution_count": 69,
   "metadata": {
    "ExecuteTime": {
     "start_time": "2023-04-21T10:18:10.012726Z",
     "end_time": "2023-04-21T10:18:10.174155Z"
    }
   },
   "outputs": [],
   "source": [
    "# Importing the dataset\n",
    "import numpy as np\n",
    "import matplotlib as plt\n",
    "dataset = np.genfromtxt(\"yacht_hydrodynamics.data\", delimiter='')\n",
    "X = dataset[:, :-1]\n",
    "Y = dataset[:, -1]"
   ]
  },
  {
   "cell_type": "code",
   "execution_count": 70,
   "metadata": {
    "ExecuteTime": {
     "start_time": "2023-04-21T10:18:10.179526Z",
     "end_time": "2023-04-21T10:18:10.285763Z"
    }
   },
   "outputs": [],
   "source": [
    "# Preprocessing: scale input data \n",
    "from sklearn.preprocessing import StandardScaler\n",
    "sc = StandardScaler()\n",
    "X = sc.fit_transform(X)"
   ]
  },
  {
   "cell_type": "code",
   "execution_count": 71,
   "metadata": {
    "ExecuteTime": {
     "start_time": "2023-04-21T10:18:10.293691Z",
     "end_time": "2023-04-21T10:18:10.316597Z"
    }
   },
   "outputs": [],
   "source": [
    "# Split dataset into training and test set\n",
    "from sklearn.model_selection import train_test_split\n",
    "x_train, x_test, y_train, y_test = train_test_split(X, Y,random_state=1, test_size = 0.20)"
   ]
  },
  {
   "cell_type": "code",
   "execution_count": 72,
   "metadata": {
    "ExecuteTime": {
     "start_time": "2023-04-21T10:18:10.324289Z",
     "end_time": "2023-04-21T10:18:14.134254Z"
    }
   },
   "outputs": [
    {
     "data": {
      "text/plain": "MLPRegressor(max_iter=3000, random_state=1)",
      "text/html": "<style>#sk-container-id-4 {color: black;background-color: white;}#sk-container-id-4 pre{padding: 0;}#sk-container-id-4 div.sk-toggleable {background-color: white;}#sk-container-id-4 label.sk-toggleable__label {cursor: pointer;display: block;width: 100%;margin-bottom: 0;padding: 0.3em;box-sizing: border-box;text-align: center;}#sk-container-id-4 label.sk-toggleable__label-arrow:before {content: \"▸\";float: left;margin-right: 0.25em;color: #696969;}#sk-container-id-4 label.sk-toggleable__label-arrow:hover:before {color: black;}#sk-container-id-4 div.sk-estimator:hover label.sk-toggleable__label-arrow:before {color: black;}#sk-container-id-4 div.sk-toggleable__content {max-height: 0;max-width: 0;overflow: hidden;text-align: left;background-color: #f0f8ff;}#sk-container-id-4 div.sk-toggleable__content pre {margin: 0.2em;color: black;border-radius: 0.25em;background-color: #f0f8ff;}#sk-container-id-4 input.sk-toggleable__control:checked~div.sk-toggleable__content {max-height: 200px;max-width: 100%;overflow: auto;}#sk-container-id-4 input.sk-toggleable__control:checked~label.sk-toggleable__label-arrow:before {content: \"▾\";}#sk-container-id-4 div.sk-estimator input.sk-toggleable__control:checked~label.sk-toggleable__label {background-color: #d4ebff;}#sk-container-id-4 div.sk-label input.sk-toggleable__control:checked~label.sk-toggleable__label {background-color: #d4ebff;}#sk-container-id-4 input.sk-hidden--visually {border: 0;clip: rect(1px 1px 1px 1px);clip: rect(1px, 1px, 1px, 1px);height: 1px;margin: -1px;overflow: hidden;padding: 0;position: absolute;width: 1px;}#sk-container-id-4 div.sk-estimator {font-family: monospace;background-color: #f0f8ff;border: 1px dotted black;border-radius: 0.25em;box-sizing: border-box;margin-bottom: 0.5em;}#sk-container-id-4 div.sk-estimator:hover {background-color: #d4ebff;}#sk-container-id-4 div.sk-parallel-item::after {content: \"\";width: 100%;border-bottom: 1px solid gray;flex-grow: 1;}#sk-container-id-4 div.sk-label:hover label.sk-toggleable__label {background-color: #d4ebff;}#sk-container-id-4 div.sk-serial::before {content: \"\";position: absolute;border-left: 1px solid gray;box-sizing: border-box;top: 0;bottom: 0;left: 50%;z-index: 0;}#sk-container-id-4 div.sk-serial {display: flex;flex-direction: column;align-items: center;background-color: white;padding-right: 0.2em;padding-left: 0.2em;position: relative;}#sk-container-id-4 div.sk-item {position: relative;z-index: 1;}#sk-container-id-4 div.sk-parallel {display: flex;align-items: stretch;justify-content: center;background-color: white;position: relative;}#sk-container-id-4 div.sk-item::before, #sk-container-id-4 div.sk-parallel-item::before {content: \"\";position: absolute;border-left: 1px solid gray;box-sizing: border-box;top: 0;bottom: 0;left: 50%;z-index: -1;}#sk-container-id-4 div.sk-parallel-item {display: flex;flex-direction: column;z-index: 1;position: relative;background-color: white;}#sk-container-id-4 div.sk-parallel-item:first-child::after {align-self: flex-end;width: 50%;}#sk-container-id-4 div.sk-parallel-item:last-child::after {align-self: flex-start;width: 50%;}#sk-container-id-4 div.sk-parallel-item:only-child::after {width: 0;}#sk-container-id-4 div.sk-dashed-wrapped {border: 1px dashed gray;margin: 0 0.4em 0.5em 0.4em;box-sizing: border-box;padding-bottom: 0.4em;background-color: white;}#sk-container-id-4 div.sk-label label {font-family: monospace;font-weight: bold;display: inline-block;line-height: 1.2em;}#sk-container-id-4 div.sk-label-container {text-align: center;}#sk-container-id-4 div.sk-container {/* jupyter's `normalize.less` sets `[hidden] { display: none; }` but bootstrap.min.css set `[hidden] { display: none !important; }` so we also need the `!important` here to be able to override the default hidden behavior on the sphinx rendered scikit-learn.org. See: https://github.com/scikit-learn/scikit-learn/issues/21755 */display: inline-block !important;position: relative;}#sk-container-id-4 div.sk-text-repr-fallback {display: none;}</style><div id=\"sk-container-id-4\" class=\"sk-top-container\"><div class=\"sk-text-repr-fallback\"><pre>MLPRegressor(max_iter=3000, random_state=1)</pre><b>In a Jupyter environment, please rerun this cell to show the HTML representation or trust the notebook. <br />On GitHub, the HTML representation is unable to render, please try loading this page with nbviewer.org.</b></div><div class=\"sk-container\" hidden><div class=\"sk-item\"><div class=\"sk-estimator sk-toggleable\"><input class=\"sk-toggleable__control sk-hidden--visually\" id=\"sk-estimator-id-4\" type=\"checkbox\" checked><label for=\"sk-estimator-id-4\" class=\"sk-toggleable__label sk-toggleable__label-arrow\">MLPRegressor</label><div class=\"sk-toggleable__content\"><pre>MLPRegressor(max_iter=3000, random_state=1)</pre></div></div></div></div></div>"
     },
     "execution_count": 72,
     "metadata": {},
     "output_type": "execute_result"
    }
   ],
   "source": [
    "# Define a multi-layer perceptron (MLP) network for regression\n",
    "from sklearn.neural_network import MLPRegressor\n",
    "mlp = MLPRegressor(max_iter=3000, random_state=1) # define the model, with default params\n",
    "mlp.fit(x_train, y_train) # train the MLP"
   ]
  },
  {
   "cell_type": "code",
   "execution_count": 73,
   "metadata": {
    "ExecuteTime": {
     "start_time": "2023-04-21T10:18:14.133131Z",
     "end_time": "2023-04-21T10:18:14.324465Z"
    }
   },
   "outputs": [
    {
     "name": "stdout",
     "output_type": "stream",
     "text": [
      "Train score:  0.9940765369322633\n",
      "Test score:   0.9899773031580283\n"
     ]
    },
    {
     "data": {
      "text/plain": "Text(0, 0.5, 'Loss')"
     },
     "execution_count": 73,
     "metadata": {},
     "output_type": "execute_result"
    },
    {
     "data": {
      "text/plain": "<Figure size 432x288 with 1 Axes>",
      "image/png": "[encoded data removed]"
     },
     "metadata": {
      "needs_background": "light"
     },
     "output_type": "display_data"
    }
   ],
   "source": [
    "# Evaluate the model\n",
    "from matplotlib import pyplot as plt\n",
    "\n",
    "print('Train score: ', mlp.score(x_train, y_train))\n",
    "print('Test score:  ', mlp.score(x_test, y_test))\n",
    "plt.plot(mlp.loss_curve_)\n",
    "plt.xlabel(\"Iterations\")\n",
    "plt.ylabel(\"Loss\")\n"
   ]
  },
  {
   "cell_type": "code",
   "execution_count": 74,
   "metadata": {
    "ExecuteTime": {
     "start_time": "2023-04-21T10:18:14.334692Z",
     "end_time": "2023-04-21T10:18:14.571652Z"
    }
   },
   "outputs": [
    {
     "data": {
      "text/plain": "Text(0, 0.5, 'f(examples)')"
     },
     "execution_count": 74,
     "metadata": {},
     "output_type": "execute_result"
    },
    {
     "data": {
      "text/plain": "<Figure size 432x288 with 1 Axes>",
      "image/png": "[encoded data removed]"
     },
     "metadata": {
      "needs_background": "light"
     },
     "output_type": "display_data"
    }
   ],
   "source": [
    "# Plot the results\n",
    "num_samples_to_plot = 20\n",
    "plt.plot(y_test[0:num_samples_to_plot], 'ro', label='y')\n",
    "yw = mlp.predict(x_test)\n",
    "plt.plot(yw[0:num_samples_to_plot], 'bx', label='$\\hat{y}$')\n",
    "plt.legend()\n",
    "plt.xlabel(\"Examples\")\n",
    "plt.ylabel(\"f(examples)\")"
   ]
  },
  {
   "cell_type": "markdown",
   "metadata": {},
   "source": [
    "### Analyzing the network\n",
    "\n",
    "Many details of the network are currently hidden as default parameters.\n",
    "\n",
    "Using the [documentation of the MLPRegressor](https://scikit-learn.org/stable/modules/generated/sklearn.neural_network.MLPRegressor.html), answer the following questions.\n",
    "\n",
    "- What is the structure of the network?\n",
    "- What it is the algorithm used for training? Is there algorithm available that we mentioned during the courses?\n",
    "- How does the training algorithm decides to stop the training?"
   ]
  },
  {
   "cell_type": "markdown",
   "metadata": {},
   "source": [
    "# Onto a more challenging dataset: house prices\n",
    "\n",
    "For the rest of this lab, we will use the (more challenging) [California Housing Prices dataset](https://www.kaggle.com/datasets/camnugent/california-housing-prices)."
   ]
  },
  {
   "cell_type": "code",
   "execution_count": 75,
   "metadata": {
    "ExecuteTime": {
     "start_time": "2023-04-21T10:18:14.679724Z",
     "end_time": "2023-04-21T10:18:14.831563Z"
    }
   },
   "outputs": [],
   "source": [
    "# clean all previously defined variables for the sailing boats\n",
    "%reset -f"
   ]
  },
  {
   "cell_type": "code",
   "execution_count": 76,
   "metadata": {
    "ExecuteTime": {
     "start_time": "2023-04-21T10:18:14.874971Z",
     "end_time": "2023-04-21T10:18:14.930632Z"
    }
   },
   "outputs": [
    {
     "name": "stdout",
     "output_type": "stream",
     "text": [
      "<class 'sklearn.utils._bunch.Bunch'>\n"
     ]
    },
    {
     "data": {
      "text/plain": "       MedInc  HouseAge  AveRooms  AveBedrms  Population  AveOccup  Latitude   \n4712   3.2500      39.0  4.503205   1.073718      1109.0  1.777244     34.06  \\\n2151   1.9784      37.0  4.988584   1.038813      1143.0  2.609589     36.78   \n15927  4.0132      46.0  4.480296   1.012315      1534.0  3.778325     37.73   \n82     1.5208      52.0  3.908046   1.114943       200.0  2.298851     37.81   \n8161   5.1795      37.0  5.406360   1.024735       711.0  2.512367     33.82   \n6636   7.3715      17.0  5.006098   0.993902       229.0  1.396341     34.15   \n17333  5.2990      12.0  7.214932   1.047511      1200.0  2.714932     34.91   \n19081  2.3276      29.0  4.731076   1.115538      1124.0  2.239044     38.31   \n13298  3.4950      35.0  4.956522   0.952569       729.0  2.881423     34.08   \n7157   3.1895      45.0  5.533333   1.166667       302.0  5.033333     34.04   \n\n       Longitude  \n4712     -118.36  \n2151     -119.78  \n15927    -122.42  \n82       -122.28  \n8161     -118.13  \n6636     -118.16  \n17333    -120.44  \n19081    -122.48  \n13298    -117.64  \n7157     -118.16  ",
      "text/html": "<div>\n<style scoped>\n    .dataframe tbody tr th:only-of-type {\n        vertical-align: middle;\n    }\n\n    .dataframe tbody tr th {\n        vertical-align: top;\n    }\n\n    .dataframe thead th {\n        text-align: right;\n    }\n</style>\n<table border=\"1\" class=\"dataframe\">\n  <thead>\n    <tr style=\"text-align: right;\">\n      <th></th>\n      <th>MedInc</th>\n      <th>HouseAge</th>\n      <th>AveRooms</th>\n      <th>AveBedrms</th>\n      <th>Population</th>\n      <th>AveOccup</th>\n      <th>Latitude</th>\n      <th>Longitude</th>\n    </tr>\n  </thead>\n  <tbody>\n    <tr>\n      <th>4712</th>\n      <td>3.2500</td>\n      <td>39.0</td>\n      <td>4.503205</td>\n      <td>1.073718</td>\n      <td>1109.0</td>\n      <td>1.777244</td>\n      <td>34.06</td>\n      <td>-118.36</td>\n    </tr>\n    <tr>\n      <th>2151</th>\n      <td>1.9784</td>\n      <td>37.0</td>\n      <td>4.988584</td>\n      <td>1.038813</td>\n      <td>1143.0</td>\n      <td>2.609589</td>\n      <td>36.78</td>\n      <td>-119.78</td>\n    </tr>\n    <tr>\n      <th>15927</th>\n      <td>4.0132</td>\n      <td>46.0</td>\n      <td>4.480296</td>\n      <td>1.012315</td>\n      <td>1534.0</td>\n      <td>3.778325</td>\n      <td>37.73</td>\n      <td>-122.42</td>\n    </tr>\n    <tr>\n      <th>82</th>\n      <td>1.5208</td>\n      <td>52.0</td>\n      <td>3.908046</td>\n      <td>1.114943</td>\n      <td>200.0</td>\n      <td>2.298851</td>\n      <td>37.81</td>\n      <td>-122.28</td>\n    </tr>\n    <tr>\n      <th>8161</th>\n      <td>5.1795</td>\n      <td>37.0</td>\n      <td>5.406360</td>\n      <td>1.024735</td>\n      <td>711.0</td>\n      <td>2.512367</td>\n      <td>33.82</td>\n      <td>-118.13</td>\n    </tr>\n    <tr>\n      <th>6636</th>\n      <td>7.3715</td>\n      <td>17.0</td>\n      <td>5.006098</td>\n      <td>0.993902</td>\n      <td>229.0</td>\n      <td>1.396341</td>\n      <td>34.15</td>\n      <td>-118.16</td>\n    </tr>\n    <tr>\n      <th>17333</th>\n      <td>5.2990</td>\n      <td>12.0</td>\n      <td>7.214932</td>\n      <td>1.047511</td>\n      <td>1200.0</td>\n      <td>2.714932</td>\n      <td>34.91</td>\n      <td>-120.44</td>\n    </tr>\n    <tr>\n      <th>19081</th>\n      <td>2.3276</td>\n      <td>29.0</td>\n      <td>4.731076</td>\n      <td>1.115538</td>\n      <td>1124.0</td>\n      <td>2.239044</td>\n      <td>38.31</td>\n      <td>-122.48</td>\n    </tr>\n    <tr>\n      <th>13298</th>\n      <td>3.4950</td>\n      <td>35.0</td>\n      <td>4.956522</td>\n      <td>0.952569</td>\n      <td>729.0</td>\n      <td>2.881423</td>\n      <td>34.08</td>\n      <td>-117.64</td>\n    </tr>\n    <tr>\n      <th>7157</th>\n      <td>3.1895</td>\n      <td>45.0</td>\n      <td>5.533333</td>\n      <td>1.166667</td>\n      <td>302.0</td>\n      <td>5.033333</td>\n      <td>34.04</td>\n      <td>-118.16</td>\n    </tr>\n  </tbody>\n</table>\n</div>"
     },
     "execution_count": 76,
     "metadata": {},
     "output_type": "execute_result"
    }
   ],
   "source": [
    "\"\"\"Import the required modules\"\"\"\n",
    "from sklearn.datasets import fetch_california_housing\n",
    "from sklearn.utils import shuffle\n",
    "import pandas as pd\n",
    "\n",
    "cal_housing = fetch_california_housing()\n",
    "print(type(cal_housing))\n",
    "X_all = pd.DataFrame(cal_housing.data,columns=cal_housing.feature_names)\n",
    "y_all = cal_housing.target\n",
    "\n",
    "X_all, y_all = shuffle(X_all, y_all, random_state=1)\n",
    "\n",
    "# only use the first N samples to limit training time\n",
    "num_samples = 2000 \n",
    "X, y = X_all[:num_samples], y_all[:num_samples]\n",
    "X_val, y_val = X_all[num_samples:2*num_samples], y_all[num_samples:2*num_samples]\n",
    "\n",
    "X.head(10) # print the first 10 values"
   ]
  },
  {
   "cell_type": "markdown",
   "metadata": {},
   "source": [
    "Note that each row of the dataset represents a **group of houses** (one district). The `target` variable denotes the average house value in units of 100.000 USD. Median Income is per 10.000 USD."
   ]
  },
  {
   "cell_type": "markdown",
   "metadata": {},
   "source": [
    "### Extracting a subpart of the dataset for testing\n",
    "\n",
    "- Split the dataset between a training set (75%) and a test set (25%)\n",
    "\n",
    "Please use the conventional names `X_train`, `X_test`, `y_train` and `y_test`."
   ]
  },
  {
   "cell_type": "code",
   "execution_count": 77,
   "metadata": {
    "ExecuteTime": {
     "start_time": "2023-04-21T10:18:14.919151Z",
     "end_time": "2023-04-21T10:18:14.930931Z"
    }
   },
   "outputs": [],
   "source": [
    "# TODO\n",
    "from sklearn.model_selection import train_test_split\n",
    "x_train, x_test, y_train, y_test = train_test_split(X, y,random_state=1, test_size = 0.25)\n"
   ]
  },
  {
   "cell_type": "markdown",
   "metadata": {},
   "source": [
    "### Scaling the input data\n",
    "\n",
    "\n",
    "A step of **scaling** of the data is often useful to ensure that all input data centered on 0 and with a fixed variance.\n",
    "\n",
    "Standardization of a dataset is a common requirement for many machine learning estimators: they might behave badly if the individual features do not more or less look like standard normally distributed data (e.g. Gaussian with 0 mean and unit variance). The function `StandardScaler` from `sklearn.preprocessing` computes the standard score of a sample as:\n",
    "\n",
    "```\n",
    "z = (x - u) / s\n",
    "```\n",
    "\n",
    "where `u` is the mean of the training samples, and `s` is the standard deviation of the training samples.\n",
    "\n",
    "Centering and scaling happen independently on each feature by computing the relevant statistics on the samples in the training set. Mean and standard deviation are then stored to be used on later data using transform.\n",
    "\n",
    " - Apply the standard scaler to both the training dataset (`X_train`) and the test dataset (`X_test`).\n",
    " - Make sure that **exactly the same transformation** is applied to both datasets.\n",
    "\n",
    "[Documentation of standard scaler in scikit learn](https://scikit-learn.org/stable/modules/generated/sklearn.preprocessing.StandardScaler.html)\n",
    "\n"
   ]
  },
  {
   "cell_type": "code",
   "execution_count": 78,
   "metadata": {
    "ExecuteTime": {
     "start_time": "2023-04-21T10:18:14.919267Z",
     "end_time": "2023-04-21T10:18:14.931084Z"
    }
   },
   "outputs": [],
   "source": [
    "# TODO\n",
    "from sklearn.preprocessing import StandardScaler\n",
    "sc = StandardScaler()\n",
    "x_train = sc.fit_transform(x_train)\n",
    "x_test  = sc.fit_transform(x_test)\n",
    "x_val = sc.fit_transform(X_val)"
   ]
  },
  {
   "cell_type": "markdown",
   "metadata": {},
   "source": [
    "## Overfitting\n",
    "\n",
    "In this part, we are only interested in maximizing the **train score**, i.e., having the network memorize the training examples as well as possible.\n",
    "\n",
    "- Propose a parameterization of the network (shape and learning parameters) that will maximize the train score (without considering the test score).\n",
    "\n",
    "While doing this, you should (1) remain within two minutes of training time, and (2) obtain a score that is greater than 0.90.\n",
    "\n",
    "- Is the **test** score substantially smaller than the **train** score (indicator of overfitting) ?\n",
    "- Explain how the parameters you chose allow the learned model to overfit."
   ]
  },
  {
   "cell_type": "code",
   "execution_count": 79,
   "metadata": {
    "ExecuteTime": {
     "start_time": "2023-04-21T10:18:14.919428Z",
     "end_time": "2023-04-21T10:22:09.440905Z"
    }
   },
   "outputs": [
    {
     "name": "stdout",
     "output_type": "stream",
     "text": [
      "Train score:  0.9867733508803237\n",
      "Test score:   0.6206330007077974\n"
     ]
    },
    {
     "data": {
      "text/plain": "Text(0, 0.5, 'f(examples)')"
     },
     "execution_count": 79,
     "metadata": {},
     "output_type": "execute_result"
    },
    {
     "data": {
      "text/plain": "<Figure size 432x288 with 1 Axes>",
      "image/png": "[encoded data removed]"
     },
     "metadata": {
      "needs_background": "light"
     },
     "output_type": "display_data"
    }
   ],
   "source": [
    "# TODO\n",
    "from sklearn.neural_network import MLPRegressor\n",
    "mlp = MLPRegressor(hidden_layer_sizes=[1000,1000,2000],max_iter=1000, random_state=1) # define the model, with default params\n",
    "mlp.fit(x_train, y_train) # train the MLP\n",
    "from matplotlib import pyplot as plt\n",
    "\n",
    "print('Train score: ', mlp.score(x_train, y_train))\n",
    "print('Test score:  ', mlp.score(x_test, y_test))\n",
    "plt.plot(mlp.loss_curve_)\n",
    "plt.xlabel(\"Iterations\")\n",
    "plt.ylabel(\"Loss\")\n",
    "\n",
    "num_samples_to_plot = 20\n",
    "plt.plot(y_test[0:num_samples_to_plot], 'ro', label='y')\n",
    "yw = mlp.predict(x_test)\n",
    "plt.plot(yw[0:num_samples_to_plot], 'bx', label='$\\hat{y}$')\n",
    "plt.legend()\n",
    "plt.xlabel(\"Examples\")\n",
    "plt.ylabel(\"f(examples)\")"
   ]
  },
  {
   "cell_type": "markdown",
   "metadata": {},
   "source": [
    "## Hyperparameter tuning\n",
    "\n",
    "In this section, we are now interested in maximizing the ability of the network to predict the value of unseen examples, i.e., maximizing the **test** score.\n",
    "You should experiment with the possible parameters of the network in order to obtain a good test score, ideally with a small learning time.\n",
    "\n",
    "Parameters to vary:\n",
    "\n",
    "- number and size of the hidden layers\n",
    "- activation function\n",
    "- stopping conditions\n",
    "- maximum number of iterations\n",
    "- initial learning rate value\n",
    "\n",
    "Results to present for the tested configurations:\n",
    "\n",
    "- Train/test score\n",
    "- training time\n",
    "\n",
    "\n",
    "Present in a table the various parameters tested and the associated results. You can find in the last cell of the notebook a code snippet that will allow you to plot tables from python structure.\n",
    "Be methodical in the way your run your experiments and collect data. For each run, you should record the parameters and results into an external data structure.\n",
    "\n",
    "(Note that, while we encourage you to explore the solution space manually, there are existing methods in scikit-learn and other learning framework to automate this step as well, e.g., [GridSearchCV](https://scikit-learn.org/stable/modules/generated/sklearn.model_selection.GridSearchCV.html))"
   ]
  },
  {
   "cell_type": "code",
   "execution_count": 80,
   "metadata": {
    "ExecuteTime": {
     "start_time": "2023-04-21T10:22:09.451104Z",
     "end_time": "2023-04-21T10:22:59.247439Z"
    }
   },
   "outputs": [
    {
     "name": "stdout",
     "output_type": "stream",
     "text": [
      "Train score:  0.8507099689737797\n",
      "Test score:   0.6344054802217608\n"
     ]
    },
    {
     "name": "stderr",
     "output_type": "stream",
     "text": [
      "/home/newg/.local/lib/python3.10/site-packages/sklearn/neural_network/_multilayer_perceptron.py:686: ConvergenceWarning: Stochastic Optimizer: Maximum iterations (1000) reached and the optimization hasn't converged yet.\n",
      "  warnings.warn(\n"
     ]
    },
    {
     "data": {
      "text/plain": "Text(0, 0.5, 'f(examples)')"
     },
     "execution_count": 80,
     "metadata": {},
     "output_type": "execute_result"
    },
    {
     "data": {
      "text/plain": "<Figure size 432x288 with 1 Axes>",
      "image/png": "[encoded data removed]"
     },
     "metadata": {
      "needs_background": "light"
     },
     "output_type": "display_data"
    }
   ],
   "source": [
    "# TODO\n",
    "from sklearn.neural_network import MLPRegressor\n",
    "mlp = MLPRegressor(hidden_layer_sizes=[100,200,100],max_iter=1000, random_state=1,activation='relu',solver='sgd') # define the model, with default params\n",
    "mlp.fit(x_train, y_train) # train the MLP\n",
    "from matplotlib import pyplot as plt\n",
    "\n",
    "print('Train score: ', mlp.score(x_train, y_train))\n",
    "print('Test score:  ', mlp.score(x_test, y_test))\n",
    "plt.plot(mlp.loss_curve_)\n",
    "plt.xlabel(\"Iterations\")\n",
    "plt.ylabel(\"Loss\")\n",
    "\n",
    "num_samples_to_plot = 20\n",
    "plt.plot(y_test[0:num_samples_to_plot], 'ro', label='y')\n",
    "yw = mlp.predict(x_test)\n",
    "plt.plot(yw[0:num_samples_to_plot], 'bx', label='$\\hat{y}$')\n",
    "plt.legend()\n",
    "plt.xlabel(\"Examples\")\n",
    "plt.ylabel(\"f(examples)\")"
   ]
  },
  {
   "cell_type": "code",
   "execution_count": 87,
   "metadata": {
    "ExecuteTime": {
     "start_time": "2023-04-21T10:36:16.799009Z",
     "end_time": "2023-04-21T10:37:16.825287Z"
    }
   },
   "outputs": [
    {
     "name": "stderr",
     "output_type": "stream",
     "text": [
      "/home/newg/.local/lib/python3.10/site-packages/sklearn/neural_network/_multilayer_perceptron.py:686: ConvergenceWarning: Stochastic Optimizer: Maximum iterations (500) reached and the optimization hasn't converged yet.\n",
      "  warnings.warn(\n",
      "/home/newg/.local/lib/python3.10/site-packages/sklearn/neural_network/_multilayer_perceptron.py:686: ConvergenceWarning: Stochastic Optimizer: Maximum iterations (200) reached and the optimization hasn't converged yet.\n",
      "  warnings.warn(\n"
     ]
    },
    {
     "data": {
      "text/plain": "   activation  max_iter  test_score  validation_score early_stopping   \n25       relu       500    0.704796          0.664714           True  \\\n1        tanh       200    0.698137          0.671786          False   \n0        relu       500    0.691765          0.682376              -   \n19       relu       500    0.688364          0.652104           True   \n21       relu       500    0.687815          0.662983           True   \n20       relu       500    0.687222          0.643595           True   \n7        relu       500    0.686875          0.667417           True   \n22       relu       500    0.684342          0.666122           True   \n2        relu       500    0.682643          0.650118           True   \n23       relu       500    0.680810          0.667918           True   \n9        relu       500    0.675629          0.679591           True   \n24       relu       500    0.672320          0.657505           True   \n10       tanh       500    0.672166          0.671736           True   \n6        relu       500    0.668587          0.665126           True   \n8        relu       500    0.664602          0.654647           True   \n5        relu       500    0.663451          0.646710           True   \n11       tanh       500    0.655051          0.645340           True   \n13   identity       500    0.653946          0.619005           True   \n4    identity       500    0.651448          0.617999           True   \n16   identity       500    0.648994          0.616125           True   \n3    logistic       500    0.637958          0.615653           True   \n15   identity       500    0.636081          0.606326           True   \n14   identity       500    0.632268          0.603539           True   \n12       relu       500    0.630361          0.635463           True   \n17   identity       500    0.557937          0.478316           True   \n18   identity       500    0.442067          0.430604           True   \n\n   validation_fraction hidden_layer_sizes   alpha solver learning_rate_init  \n25                0.05         [100, 200]     1.0      -                  -  \n1                    -                  -       -      -                  -  \n0                    -                  -       -      -                  -  \n19                0.05                  -     5.0      -                  -  \n21                0.05                  -    0.01      -                  -  \n20                0.05                  -     1.0      -                  -  \n7                 0.05              [500]       -      -                  -  \n22                0.05                  -   0.001      -                  -  \n2                 0.05                  -       -      -                  -  \n23                0.05                  -  0.0001      -                  -  \n9                 0.05         [100, 100]       -      -                  -  \n24                0.05                  -  0.0001      -                  -  \n10                0.05         [100, 100]       -      -                  -  \n6                 0.05              [200]       -      -                  -  \n8                 0.05             [1000]       -      -                  -  \n5                 0.05              [100]       -      -                  -  \n11                0.05         [100, 100]     1.0      -                  -  \n13                0.05                  -       -  lbfgs                  -  \n4                 0.05                  -       -      -                  -  \n16                0.05                  -       -    sgd               0.01  \n3                 0.05                  -       -      -                  -  \n15                0.05                  -       -    sgd                  -  \n14                0.05                  -       -   adam                  -  \n12                0.05        [100, 1000]       -      -                  -  \n17                0.05                  -       -    sgd               0.05  \n18                0.05                  -       -    sgd             0.0001  ",
      "text/html": "<div>\n<style scoped>\n    .dataframe tbody tr th:only-of-type {\n        vertical-align: middle;\n    }\n\n    .dataframe tbody tr th {\n        vertical-align: top;\n    }\n\n    .dataframe thead th {\n        text-align: right;\n    }\n</style>\n<table border=\"1\" class=\"dataframe\">\n  <thead>\n    <tr style=\"text-align: right;\">\n      <th></th>\n      <th>activation</th>\n      <th>max_iter</th>\n      <th>test_score</th>\n      <th>validation_score</th>\n      <th>early_stopping</th>\n      <th>validation_fraction</th>\n      <th>hidden_layer_sizes</th>\n      <th>alpha</th>\n      <th>solver</th>\n      <th>learning_rate_init</th>\n    </tr>\n  </thead>\n  <tbody>\n    <tr>\n      <th>25</th>\n      <td>relu</td>\n      <td>500</td>\n      <td>0.704796</td>\n      <td>0.664714</td>\n      <td>True</td>\n      <td>0.05</td>\n      <td>[100, 200]</td>\n      <td>1.0</td>\n      <td>-</td>\n      <td>-</td>\n    </tr>\n    <tr>\n      <th>1</th>\n      <td>tanh</td>\n      <td>200</td>\n      <td>0.698137</td>\n      <td>0.671786</td>\n      <td>False</td>\n      <td>-</td>\n      <td>-</td>\n      <td>-</td>\n      <td>-</td>\n      <td>-</td>\n    </tr>\n    <tr>\n      <th>0</th>\n      <td>relu</td>\n      <td>500</td>\n      <td>0.691765</td>\n      <td>0.682376</td>\n      <td>-</td>\n      <td>-</td>\n      <td>-</td>\n      <td>-</td>\n      <td>-</td>\n      <td>-</td>\n    </tr>\n    <tr>\n      <th>19</th>\n      <td>relu</td>\n      <td>500</td>\n      <td>0.688364</td>\n      <td>0.652104</td>\n      <td>True</td>\n      <td>0.05</td>\n      <td>-</td>\n      <td>5.0</td>\n      <td>-</td>\n      <td>-</td>\n    </tr>\n    <tr>\n      <th>21</th>\n      <td>relu</td>\n      <td>500</td>\n      <td>0.687815</td>\n      <td>0.662983</td>\n      <td>True</td>\n      <td>0.05</td>\n      <td>-</td>\n      <td>0.01</td>\n      <td>-</td>\n      <td>-</td>\n    </tr>\n    <tr>\n      <th>20</th>\n      <td>relu</td>\n      <td>500</td>\n      <td>0.687222</td>\n      <td>0.643595</td>\n      <td>True</td>\n      <td>0.05</td>\n      <td>-</td>\n      <td>1.0</td>\n      <td>-</td>\n      <td>-</td>\n    </tr>\n    <tr>\n      <th>7</th>\n      <td>relu</td>\n      <td>500</td>\n      <td>0.686875</td>\n      <td>0.667417</td>\n      <td>True</td>\n      <td>0.05</td>\n      <td>[500]</td>\n      <td>-</td>\n      <td>-</td>\n      <td>-</td>\n    </tr>\n    <tr>\n      <th>22</th>\n      <td>relu</td>\n      <td>500</td>\n      <td>0.684342</td>\n      <td>0.666122</td>\n      <td>True</td>\n      <td>0.05</td>\n      <td>-</td>\n      <td>0.001</td>\n      <td>-</td>\n      <td>-</td>\n    </tr>\n    <tr>\n      <th>2</th>\n      <td>relu</td>\n      <td>500</td>\n      <td>0.682643</td>\n      <td>0.650118</td>\n      <td>True</td>\n      <td>0.05</td>\n      <td>-</td>\n      <td>-</td>\n      <td>-</td>\n      <td>-</td>\n    </tr>\n    <tr>\n      <th>23</th>\n      <td>relu</td>\n      <td>500</td>\n      <td>0.680810</td>\n      <td>0.667918</td>\n      <td>True</td>\n      <td>0.05</td>\n      <td>-</td>\n      <td>0.0001</td>\n      <td>-</td>\n      <td>-</td>\n    </tr>\n    <tr>\n      <th>9</th>\n      <td>relu</td>\n      <td>500</td>\n      <td>0.675629</td>\n      <td>0.679591</td>\n      <td>True</td>\n      <td>0.05</td>\n      <td>[100, 100]</td>\n      <td>-</td>\n      <td>-</td>\n      <td>-</td>\n    </tr>\n    <tr>\n      <th>24</th>\n      <td>relu</td>\n      <td>500</td>\n      <td>0.672320</td>\n      <td>0.657505</td>\n      <td>True</td>\n      <td>0.05</td>\n      <td>-</td>\n      <td>0.0001</td>\n      <td>-</td>\n      <td>-</td>\n    </tr>\n    <tr>\n      <th>10</th>\n      <td>tanh</td>\n      <td>500</td>\n      <td>0.672166</td>\n      <td>0.671736</td>\n      <td>True</td>\n      <td>0.05</td>\n      <td>[100, 100]</td>\n      <td>-</td>\n      <td>-</td>\n      <td>-</td>\n    </tr>\n    <tr>\n      <th>6</th>\n      <td>relu</td>\n      <td>500</td>\n      <td>0.668587</td>\n      <td>0.665126</td>\n      <td>True</td>\n      <td>0.05</td>\n      <td>[200]</td>\n      <td>-</td>\n      <td>-</td>\n      <td>-</td>\n    </tr>\n    <tr>\n      <th>8</th>\n      <td>relu</td>\n      <td>500</td>\n      <td>0.664602</td>\n      <td>0.654647</td>\n      <td>True</td>\n      <td>0.05</td>\n      <td>[1000]</td>\n      <td>-</td>\n      <td>-</td>\n      <td>-</td>\n    </tr>\n    <tr>\n      <th>5</th>\n      <td>relu</td>\n      <td>500</td>\n      <td>0.663451</td>\n      <td>0.646710</td>\n      <td>True</td>\n      <td>0.05</td>\n      <td>[100]</td>\n      <td>-</td>\n      <td>-</td>\n      <td>-</td>\n    </tr>\n    <tr>\n      <th>11</th>\n      <td>tanh</td>\n      <td>500</td>\n      <td>0.655051</td>\n      <td>0.645340</td>\n      <td>True</td>\n      <td>0.05</td>\n      <td>[100, 100]</td>\n      <td>1.0</td>\n      <td>-</td>\n      <td>-</td>\n    </tr>\n    <tr>\n      <th>13</th>\n      <td>identity</td>\n      <td>500</td>\n      <td>0.653946</td>\n      <td>0.619005</td>\n      <td>True</td>\n      <td>0.05</td>\n      <td>-</td>\n      <td>-</td>\n      <td>lbfgs</td>\n      <td>-</td>\n    </tr>\n    <tr>\n      <th>4</th>\n      <td>identity</td>\n      <td>500</td>\n      <td>0.651448</td>\n      <td>0.617999</td>\n      <td>True</td>\n      <td>0.05</td>\n      <td>-</td>\n      <td>-</td>\n      <td>-</td>\n      <td>-</td>\n    </tr>\n    <tr>\n      <th>16</th>\n      <td>identity</td>\n      <td>500</td>\n      <td>0.648994</td>\n      <td>0.616125</td>\n      <td>True</td>\n      <td>0.05</td>\n      <td>-</td>\n      <td>-</td>\n      <td>sgd</td>\n      <td>0.01</td>\n    </tr>\n    <tr>\n      <th>3</th>\n      <td>logistic</td>\n      <td>500</td>\n      <td>0.637958</td>\n      <td>0.615653</td>\n      <td>True</td>\n      <td>0.05</td>\n      <td>-</td>\n      <td>-</td>\n      <td>-</td>\n      <td>-</td>\n    </tr>\n    <tr>\n      <th>15</th>\n      <td>identity</td>\n      <td>500</td>\n      <td>0.636081</td>\n      <td>0.606326</td>\n      <td>True</td>\n      <td>0.05</td>\n      <td>-</td>\n      <td>-</td>\n      <td>sgd</td>\n      <td>-</td>\n    </tr>\n    <tr>\n      <th>14</th>\n      <td>identity</td>\n      <td>500</td>\n      <td>0.632268</td>\n      <td>0.603539</td>\n      <td>True</td>\n      <td>0.05</td>\n      <td>-</td>\n      <td>-</td>\n      <td>adam</td>\n      <td>-</td>\n    </tr>\n    <tr>\n      <th>12</th>\n      <td>relu</td>\n      <td>500</td>\n      <td>0.630361</td>\n      <td>0.635463</td>\n      <td>True</td>\n      <td>0.05</td>\n      <td>[100, 1000]</td>\n      <td>-</td>\n      <td>-</td>\n      <td>-</td>\n    </tr>\n    <tr>\n      <th>17</th>\n      <td>identity</td>\n      <td>500</td>\n      <td>0.557937</td>\n      <td>0.478316</td>\n      <td>True</td>\n      <td>0.05</td>\n      <td>-</td>\n      <td>-</td>\n      <td>sgd</td>\n      <td>0.05</td>\n    </tr>\n    <tr>\n      <th>18</th>\n      <td>identity</td>\n      <td>500</td>\n      <td>0.442067</td>\n      <td>0.430604</td>\n      <td>True</td>\n      <td>0.05</td>\n      <td>-</td>\n      <td>-</td>\n      <td>sgd</td>\n      <td>0.0001</td>\n    </tr>\n  </tbody>\n</table>\n</div>"
     },
     "execution_count": 87,
     "metadata": {},
     "output_type": "execute_result"
    }
   ],
   "source": [
    "# Code snippet to display a nice table in jupyter notebooks  (remove from report)\n",
    "import numpy as np\n",
    "import pandas as pd\n",
    "data = []\n",
    "data.append({'activation': 'relu', 'max_iter': 500})\n",
    "data.append({'activation': 'tanh', 'max_iter': 200, 'early_stopping': False})\n",
    "data.append({'activation': 'relu', 'max_iter': 500, 'early_stopping': True,'validation_fraction': 0.05})\n",
    "data.append({'activation': 'logistic', 'max_iter': 500, 'early_stopping': True,'validation_fraction': 0.05})\n",
    "data.append({'activation': 'identity', 'max_iter': 500, 'early_stopping': True,'validation_fraction': 0.05})\n",
    "data.append({'activation': 'relu', 'max_iter': 500, 'early_stopping': True,'validation_fraction': 0.05,'hidden_layer_sizes': [100,]})\n",
    "data.append({'activation': 'relu', 'max_iter': 500, 'early_stopping': True,'validation_fraction': 0.05,'hidden_layer_sizes': [200,]})\n",
    "data.append({'activation': 'relu', 'max_iter': 500, 'early_stopping': True,'validation_fraction': 0.05,'hidden_layer_sizes': [500,]})\n",
    "data.append({'activation': 'relu', 'max_iter': 500, 'early_stopping': True,'validation_fraction': 0.05,'hidden_layer_sizes': [1000,]})\n",
    "data.append({'activation': 'relu', 'max_iter': 500, 'early_stopping': True,'validation_fraction': 0.05,'hidden_layer_sizes': [100,100]})\n",
    "data.append({'activation': 'tanh', 'max_iter': 500, 'early_stopping': True,'validation_fraction': 0.05,'hidden_layer_sizes': [100,100]})\n",
    "data.append({'activation': 'tanh', 'max_iter': 500, 'early_stopping': True,'validation_fraction': 0.05,'hidden_layer_sizes': [100,100],'alpha':1})\n",
    "data.append({'activation': 'relu', 'max_iter': 500, 'early_stopping': True,'validation_fraction': 0.05,'hidden_layer_sizes': [100,1000]})\n",
    "data.append({'activation': 'identity', 'max_iter': 500, 'early_stopping': True,'validation_fraction': 0.05,'solver':'lbfgs'})\n",
    "data.append({'activation': 'identity', 'max_iter': 500, 'early_stopping': True,'validation_fraction': 0.05,'solver':'adam'})\n",
    "data.append({'activation': 'identity', 'max_iter': 500, 'early_stopping': True,'validation_fraction': 0.05,'solver':'sgd'})\n",
    "#data.append({'activation': 'identity', 'max_iter': 500, 'early_stopping': True,'validation_fraction': 0.05,'solver':'sgd','learning_rate_init':0.1})\n",
    "data.append({'activation': 'identity', 'max_iter': 500, 'early_stopping': True,'validation_fraction': 0.05,'solver':'sgd','learning_rate_init':0.01})\n",
    "data.append({'activation': 'identity', 'max_iter': 500, 'early_stopping': True,'validation_fraction': 0.05,'solver':'sgd','learning_rate_init':0.05})\n",
    "data.append({'activation': 'identity', 'max_iter': 500, 'early_stopping': True,'validation_fraction': 0.05,'solver':'sgd','learning_rate_init':0.0001})\n",
    "data.append({'activation': 'relu', 'max_iter': 500, 'early_stopping': True,'validation_fraction': 0.05,'alpha': 5})\n",
    "data.append({'activation': 'relu', 'max_iter': 500, 'early_stopping': True,'validation_fraction': 0.05,'alpha': 1})\n",
    "data.append({'activation': 'relu', 'max_iter': 500, 'early_stopping': True,'validation_fraction': 0.05,'alpha': 0.01})\n",
    "data.append({'activation': 'relu', 'max_iter': 500, 'early_stopping': True,'validation_fraction': 0.05,'alpha': 0.001})\n",
    "data.append({'activation': 'relu', 'max_iter': 500, 'early_stopping': True,'validation_fraction': 0.05,'alpha': 0.0001})\n",
    "data.append({'activation': 'relu', 'max_iter': 500, 'early_stopping': True,'validation_fraction': 0.05,'alpha': 0.0001})\n",
    "data.append({'activation': 'relu', 'max_iter': 500, 'early_stopping': True,'validation_fraction': 0.05,'alpha': 1,'hidden_layer_sizes':[100,200]})\n",
    "for machin in data:\n",
    "    #print(machin)\n",
    "    mlp = MLPRegressor(**machin)\n",
    "    mlp.fit(x_train, y_train)\n",
    "    machin['test_score'] = mlp.score(x_test,y_test)\n",
    "    machin['validation_score'] = mlp.score(x_val,y_val)\n",
    "\n",
    "table = pd.DataFrame.from_dict(data)\n",
    "table = table.replace(np.nan, '-')\n",
    "table = table.sort_values(by='test_score', ascending=False)\n",
    "table"
   ]
  },
  {
   "cell_type": "markdown",
   "metadata": {},
   "source": [
    "## Evaluation\n",
    "\n",
    "- From your experiments, what seems to be the best model (i.e. set of parameters) for predicting the value of a house?\n",
    "\n",
    "Unless you used cross-validation, you have probably used the \"test\" set to select the best model among the ones you experimented with.\n",
    "Since your model is the one that worked best on the \"test\" set, your selection is *biased*.\n",
    "\n",
    "In all rigor the original dataset should be split in three:\n",
    "\n",
    "- the **training set**, on which each model is trained\n",
    "- the **validation set**, that is used to pick the best parameters of the model\n",
    "- the **test set**, on which we evaluate the final model\n",
    "\n",
    "\n",
    "Evaluate the score of your algorithm on a test set that was not used for training nor for model selection.\n",
    "\n"
   ]
  },
  {
   "cell_type": "code",
   "execution_count": 82,
   "metadata": {
    "ExecuteTime": {
     "start_time": "2023-04-21T10:23:33.357813Z",
     "end_time": "2023-04-21T10:23:33.367066Z"
    }
   },
   "outputs": [],
   "source": [
    "# TODO"
   ]
  },
  {
   "cell_type": "code",
   "execution_count": 82,
   "metadata": {
    "ExecuteTime": {
     "start_time": "2023-04-21T10:23:33.357978Z",
     "end_time": "2023-04-21T10:23:33.367236Z"
    }
   },
   "outputs": [],
   "source": []
  },
  {
   "cell_type": "code",
   "execution_count": 82,
   "metadata": {
    "ExecuteTime": {
     "start_time": "2023-04-21T10:23:33.362686Z",
     "end_time": "2023-04-21T10:23:33.401545Z"
    }
   },
   "outputs": [],
   "source": []
  }
 ],
 "metadata": {
  "kernelspec": {
   "display_name": "Python 3 (ipykernel)",
   "language": "python",
   "name": "python3"
  },
  "language_info": {
   "codemirror_mode": {
    "name": "ipython",
    "version": 3
   },
   "file_extension": ".py",
   "mimetype": "text/x-python",
   "name": "python",
   "nbconvert_exporter": "python",
   "pygments_lexer": "ipython3",
   "version": "3.10.6"
  },
  "vscode": {
   "interpreter": {
    "hash": "916dbcbb3f70747c44a77c7bcd40155683ae19c65e1c03b4aa3499c5328201f1"
   }
  }
 },
 "nbformat": 4,
 "nbformat_minor": 4
}
